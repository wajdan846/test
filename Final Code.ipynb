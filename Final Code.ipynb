{
 "cells": [
  {
   "cell_type": "code",
   "execution_count": 1,
   "metadata": {},
   "outputs": [
    {
     "name": "stderr",
     "output_type": "stream",
     "text": [
      "C:\\Users\\Nimish Patel\\Anaconda3\\lib\\site-packages\\h5py\\__init__.py:36: FutureWarning: Conversion of the second argument of issubdtype from `float` to `np.floating` is deprecated. In future, it will be treated as `np.float64 == np.dtype(float).type`.\n",
      "  from ._conv import register_converters as _register_converters\n",
      "Using TensorFlow backend.\n"
     ]
    }
   ],
   "source": [
    "import scipy.io\n",
    "import pandas as pd\n",
    "import numpy as np\n",
    "from keras.utils import np_utils\n",
    "import scikitplot as skplt\n",
    "import matplotlib.pyplot as plt\n",
    "import sys\n",
    "import pickle\n",
    "from keras import metrics"
   ]
  },
  {
   "cell_type": "code",
   "execution_count": 2,
   "metadata": {},
   "outputs": [
    {
     "data": {
      "image/png": "[encoded data removed]",
      "text/plain": [
       "<matplotlib.figure.Figure at 0x1c76a9c6550>"
      ]
     },
     "metadata": {},
     "output_type": "display_data"
    }
   ],
   "source": [
    "## Plotting the data\n",
    "\n",
    "rec_fs = 512\n",
    "rec_subj_name = \"sub01\"\n",
    "\n",
    "test_pickle = pickle.load(open(str(rec_subj_name) + \".p\", \"rb\"))\n",
    "\n",
    "experiment = \"ex_paced\"\n",
    "\n",
    "for ex in [\"10bpm\"]: plt.plot(test_pickle[experiment][ex][\"earlobe-wrist\"][\"earlobe\"][\"t\"],\n",
    "test_pickle[experiment][ex][\"earlobe-wrist\"][\"earlobe\"][\"ppg_g\"])\n",
    "    \n",
    "for ex in [\"10bpm\"]:\n",
    "    pks = test_pickle[experiment][ex][\"earlobe-wrist\"][\"earlobe\"][\"pks_g\"]\n",
    "    if len(pks) != 0:\n",
    "        plt.plot(pks[1], pks[2], color='blue', linestyle='None', marker='o', markersize=1.5, alpha=1.0)\n",
    "        \n",
    "#print(pks[1])\n",
    "#print(pks[2])"
   ]
  },
  {
   "cell_type": "code",
   "execution_count": 3,
   "metadata": {},
   "outputs": [],
   "source": [
    "## Data Prepration\n",
    "\n",
    "ppg_g1 = np.asarray(test_pickle[experiment][\"10bpm\"][\"earlobe-wrist\"][\"earlobe\"][\"ppg_g\"])\n",
    "t = np.asarray(test_pickle[experiment][\"10bpm\"][\"earlobe-wrist\"][\"earlobe\"][\"t\"])\n",
    "ppg_g = (np.vstack((ppg_g1,t)).T)\n",
    "\n",
    "acc_X1 = np.asarray(test_pickle[experiment][\"10bpm\"][\"earlobe-wrist\"][\"earlobe\"][\"acc_x\"])\n",
    "acc_X = (np.vstack((acc_X1,t)).T)\n",
    "acc_Y1 = np.asarray(test_pickle[experiment][\"10bpm\"][\"earlobe-wrist\"][\"earlobe\"][\"acc_y\"])\n",
    "acc_Y = (np.vstack((acc_Y1,t)).T)\n",
    "acc_Z1 = np.asarray(test_pickle[experiment][\"10bpm\"][\"earlobe-wrist\"][\"earlobe\"][\"acc_z\"])\n",
    "acc_Z = (np.vstack((acc_Z1,t)).T)\n",
    "\n",
    "peaks = np.asarray(test_pickle[experiment][\"10bpm\"][\"earlobe-wrist\"][\"earlobe\"][\"pks_g\"][1:])\n",
    "peaks = np.transpose(peaks)\n",
    "peak_points = peaks[:,0]\n",
    "\n",
    "data1 = np.concatenate((ppg_g, acc_X), axis=1)\n",
    "data2 = np.concatenate((data1, acc_Y), axis=1)\n",
    "data3 = np.concatenate((data2, acc_Z), axis=1)\n",
    "#print(np.shape(data3))\n",
    "#print(data3)\n",
    "\n",
    "data = data3[:,[0,1,2,4,6]]\n",
    "#print(np.shape(data))\n",
    "#print(data)\n",
    "\n",
    "\n",
    "#print(ppg_g)\n",
    "#print(t)\n",
    "#print(peaks)\n",
    "#print(acc_X)\n",
    "#print(np.shape(examples))\n",
    "#print(np.shape(peaks))\n",
    "#print(peak_points)"
   ]
  },
  {
   "cell_type": "code",
   "execution_count": 4,
   "metadata": {},
   "outputs": [
    {
     "name": "stdout",
     "output_type": "stream",
     "text": [
      "(92160, 1)\n"
     ]
    }
   ],
   "source": [
    "## Transfer into binary Classification\n",
    "\n",
    "output = []\n",
    "for value in t :\n",
    "        if value in peak_points:\n",
    "            output.append(1)\n",
    "        else:\n",
    "            output.append(0)\n",
    "\n",
    "output = np.asarray(output)\n",
    "#print(np.shape(output))\n",
    "\n",
    "output = output.reshape(output.shape[0],1)\n",
    "#print(np.shape(output))\n",
    "#print(output)"
   ]
  },
  {
   "cell_type": "code",
   "execution_count": null,
   "metadata": {},
   "outputs": [],
   "source": [
    "## Selecting some the datapoints to balance the classes\n",
    "\n",
    "new_all = np.concatenate((data, output), axis=1)\n",
    "#print(np.shape(new_all))\n",
    "#print(new_all)\n",
    "\n",
    "y = [new_all[new_all[:,5]==1] for k in np.unique(new_all[:,5])]\n",
    "x = [new_all[new_all[:,5]==0] for k in np.unique(new_all[:,5])]\n",
    "#print(np.shape(y))\n",
    "#print(np.shape(x))\n",
    "\n",
    "x = np.delete(x, slice(0, 91160), axis=1)\n",
    "#print(np.shape(x))\n",
    "new_all = np.concatenate((x, y), axis=1)\n",
    "#print(np.shape(new_all))\n",
    "#print(new_all)\n",
    "np.random.shuffle(new_all)\n",
    "\n",
    "new_all = new_all[0,:,:]\n",
    "\n",
    "data = new_all[:,[0,1,2,3,4]]\n",
    "output = new_all[:,[5]]\n",
    "\n",
    "#print(np.shape(data))\n",
    "#print(np.shape(output))\n",
    "\n",
    "#print(output)\n",
    "#print(data)\n"
   ]
  },
  {
   "cell_type": "code",
   "execution_count": 5,
   "metadata": {},
   "outputs": [
    {
     "name": "stdout",
     "output_type": "stream",
     "text": [
      "(92160, 5, 1)\n"
     ]
    }
   ],
   "source": [
    "## Changing Shape of input\n",
    "\n",
    "data = data.reshape(data.shape[0],data.shape[1],1)\n",
    "#print(np.shape(data))"
   ]
  },
  {
   "cell_type": "code",
   "execution_count": 15,
   "metadata": {},
   "outputs": [
    {
     "name": "stdout",
     "output_type": "stream",
     "text": [
      "_________________________________________________________________\n",
      "Layer (type)                 Output Shape              Param #   \n",
      "=================================================================\n",
      "dense_20 (Dense)             (None, 128)               768       \n",
      "_________________________________________________________________\n",
      "dense_21 (Dense)             (None, 128)               16512     \n",
      "_________________________________________________________________\n",
      "dropout_6 (Dropout)          (None, 128)               0         \n",
      "_________________________________________________________________\n",
      "dense_22 (Dense)             (None, 80)                10320     \n",
      "_________________________________________________________________\n",
      "dense_23 (Dense)             (None, 80)                6480      \n",
      "_________________________________________________________________\n",
      "dropout_7 (Dropout)          (None, 80)                0         \n",
      "_________________________________________________________________\n",
      "dense_24 (Dense)             (None, 60)                4860      \n",
      "_________________________________________________________________\n",
      "dense_25 (Dense)             (None, 60)                3660      \n",
      "_________________________________________________________________\n",
      "dense_26 (Dense)             (None, 1)                 61        \n",
      "=================================================================\n",
      "Total params: 42,661\n",
      "Trainable params: 42,661\n",
      "Non-trainable params: 0\n",
      "_________________________________________________________________\n"
     ]
    }
   ],
   "source": [
    "## Creating a Network MPL\n",
    "\n",
    "from keras.models import Sequential\n",
    "from keras.layers import Dense,Activation,Dropout,Flatten\n",
    "model = Sequential()\n",
    "model.add(Dense(128, input_dim=5, activation='relu'))\n",
    "model.add(Dense(128, activation='relu'))\n",
    "model.add(Dropout(0.5))\n",
    "model.add(Dense(80, activation='relu'))\n",
    "model.add(Dense(80, activation='relu'))\n",
    "model.add(Dropout(0.3))\n",
    "model.add(Dense(60, activation='relu'))\n",
    "model.add(Dense(60, activation='relu'))\n",
    "model.add(Dense(1, activation='sigmoid'))\n",
    "model.summary()\n",
    "\n",
    "model.compile(loss='binary_crossentropy',\n",
    "              optimizer='adam',\n",
    "              metrics=['accuracy'])"
   ]
  },
  {
   "cell_type": "code",
   "execution_count": 10,
   "metadata": {},
   "outputs": [
    {
     "name": "stdout",
     "output_type": "stream",
     "text": [
      "_________________________________________________________________\n",
      "Layer (type)                 Output Shape              Param #   \n",
      "=================================================================\n",
      "conv1d_17 (Conv1D)           (None, 5, 128)            256       \n",
      "_________________________________________________________________\n",
      "conv1d_18 (Conv1D)           (None, 5, 128)            16512     \n",
      "_________________________________________________________________\n",
      "max_pooling1d_9 (MaxPooling1 (None, 5, 128)            0         \n",
      "_________________________________________________________________\n",
      "conv1d_19 (Conv1D)           (None, 5, 100)            12900     \n",
      "_________________________________________________________________\n",
      "conv1d_20 (Conv1D)           (None, 5, 100)            10100     \n",
      "_________________________________________________________________\n",
      "max_pooling1d_10 (MaxPooling (None, 5, 100)            0         \n",
      "_________________________________________________________________\n",
      "conv1d_21 (Conv1D)           (None, 5, 60)             6060      \n",
      "_________________________________________________________________\n",
      "conv1d_22 (Conv1D)           (None, 5, 60)             3660      \n",
      "_________________________________________________________________\n",
      "max_pooling1d_11 (MaxPooling (None, 5, 60)             0         \n",
      "_________________________________________________________________\n",
      "conv1d_23 (Conv1D)           (None, 5, 10)             610       \n",
      "_________________________________________________________________\n",
      "conv1d_24 (Conv1D)           (None, 5, 10)             110       \n",
      "_________________________________________________________________\n",
      "global_average_pooling1d_4 ( (None, 10)                0         \n",
      "_________________________________________________________________\n",
      "dense_4 (Dense)              (None, 1)                 11        \n",
      "=================================================================\n",
      "Total params: 50,219\n",
      "Trainable params: 50,219\n",
      "Non-trainable params: 0\n",
      "_________________________________________________________________\n"
     ]
    }
   ],
   "source": [
    "## Creating Network CNN\n",
    "\n",
    "from keras.models import Sequential\n",
    "from keras.layers import Conv1D,Dense,Activation,Flatten, Dropout,MaxPooling1D, GlobalAveragePooling1D\n",
    "model=Sequential()\n",
    "model.add(Conv1D(128,1,activation='relu',input_shape=(5,1)))\n",
    "model.add(Conv1D(128, 1, activation='relu'))\n",
    "model.add(MaxPooling1D(pool_size=1))\n",
    "model.add(Conv1D(100, 1, activation='relu'))\n",
    "model.add(Conv1D(100, 1, activation='relu'))\n",
    "model.add(MaxPooling1D(pool_size=1))\n",
    "model.add(Conv1D(60, 1, activation='relu'))\n",
    "model.add(Conv1D(60, 1, activation='relu'))\n",
    "model.add(MaxPooling1D(pool_size=1))\n",
    "model.add(Conv1D(10, 1, activation='relu'))\n",
    "model.add(Conv1D(10, 1, activation='relu'))\n",
    "model.add(GlobalAveragePooling1D())\n",
    "model.add(Dense(1,activation='softmax'))\n",
    "model.summary()\n",
    "\n",
    "\n",
    "model.compile(optimizer='adam',loss='binary_crossentropy',metrics=['accuracy'])"
   ]
  },
  {
   "cell_type": "code",
   "execution_count": 11,
   "metadata": {},
   "outputs": [
    {
     "name": "stdout",
     "output_type": "stream",
     "text": [
      "Epoch 1/20\n",
      "92160/92160 [==============================] - 23s 253us/step - loss: 15.9059 - acc: 0.0023\n",
      "Epoch 2/20\n",
      "92160/92160 [==============================] - 23s 249us/step - loss: 15.9059 - acc: 0.0023s - loss: 15.9056 - acc: \n",
      "Epoch 3/20\n",
      "92160/92160 [==============================] - 20s 219us/step - loss: 15.9059 - acc: 0.0023\n",
      "Epoch 4/20\n",
      "92160/92160 [==============================] - 20s 219us/step - loss: 15.9059 - acc: 0.0023\n",
      "Epoch 5/20\n",
      "92160/92160 [==============================] - 20s 212us/step - loss: 15.9059 - acc: 0.0023\n",
      "Epoch 6/20\n",
      "92160/92160 [==============================] - 20s 214us/step - loss: 15.9059 - acc: 0.0023\n",
      "Epoch 7/20\n",
      "92160/92160 [==============================] - 19s 205us/step - loss: 15.9059 - acc: 0.0023\n",
      "Epoch 8/20\n",
      "92160/92160 [==============================] - 19s 210us/step - loss: 15.9059 - acc: 0.0023\n",
      "Epoch 9/20\n",
      "92160/92160 [==============================] - 20s 215us/step - loss: 15.9059 - acc: 0.0023\n",
      "Epoch 10/20\n",
      "92160/92160 [==============================] - 20s 217us/step - loss: 15.9059 - acc: 0.0023\n",
      "Epoch 11/20\n",
      "92160/92160 [==============================] - 19s 209us/step - loss: 15.9059 - acc: 0.0023\n",
      "Epoch 12/20\n",
      "92160/92160 [==============================] - 20s 215us/step - loss: 15.9059 - acc: 0.0023\n",
      "Epoch 13/20\n",
      "92160/92160 [==============================] - 20s 216us/step - loss: 15.9059 - acc: 0.0023\n",
      "Epoch 14/20\n",
      "92160/92160 [==============================] - 20s 214us/step - loss: 15.9059 - acc: 0.0023\n",
      "Epoch 15/20\n",
      "92160/92160 [==============================] - 20s 214us/step - loss: 15.9059 - acc: 0.0023\n",
      "Epoch 16/20\n",
      "92160/92160 [==============================] - 19s 211us/step - loss: 15.9059 - acc: 0.0023\n",
      "Epoch 17/20\n",
      "92160/92160 [==============================] - 20s 213us/step - loss: 15.9059 - acc: 0.0023\n",
      "Epoch 18/20\n",
      "92160/92160 [==============================] - 20s 212us/step - loss: 15.9059 - acc: 0.0023\n",
      "Epoch 19/20\n",
      "92160/92160 [==============================] - 19s 212us/step - loss: 15.9059 - acc: 0.0023\n",
      "Epoch 20/20\n",
      "92160/92160 [==============================] - 19s 211us/step - loss: 15.9059 - acc: 0.0023\n",
      "92160/92160 [==============================] - 5s 59us/step\n",
      "0.002289496527777778\n"
     ]
    }
   ],
   "source": [
    "## Fit the Model\n",
    "model.fit(data, output, epochs=20, batch_size=128)\n",
    "\n",
    "## Find the accuracy of the Model\n",
    "_, accuracy = model.evaluate(data, output, batch_size=128)\n",
    "print(accuracy)"
   ]
  },
  {
   "cell_type": "code",
   "execution_count": null,
   "metadata": {},
   "outputs": [],
   "source": [
    "## Preparing the prediction data\n",
    "\n",
    "Predict_ppg_g1 = np.asarray(test_pickle[experiment][\"12bpm\"][\"earlobe-wrist\"][\"earlobe\"][\"ppg_g\"])\n",
    "Predict_t = np.asarray(test_pickle[experiment][\"12bpm\"][\"earlobe-wrist\"][\"earlobe\"][\"t\"])\n",
    "Predict_ppg_g = (np.vstack((Predict_ppg_g1,t)).T)\n",
    "\n",
    "Predict_acc_X1 = np.asarray(test_pickle[experiment][\"12bpm\"][\"earlobe-wrist\"][\"earlobe\"][\"acc_x\"])\n",
    "Predict_acc_X = (np.vstack((Predict_acc_X1,t)).T)\n",
    "Predict_acc_Y1 = np.asarray(test_pickle[experiment][\"12bpm\"][\"earlobe-wrist\"][\"earlobe\"][\"acc_y\"])\n",
    "Predict_acc_Y = (np.vstack((Predict_acc_Y1,t)).T)\n",
    "Predict_acc_Z1 = np.asarray(test_pickle[experiment][\"12bpm\"][\"earlobe-wrist\"][\"earlobe\"][\"acc_z\"])\n",
    "Predict_acc_Z = (np.vstack((Predict_acc_Z1,t)).T)\n",
    "\n",
    "Predict_peaks = np.asarray(test_pickle[experiment][\"12bpm\"][\"earlobe-wrist\"][\"earlobe\"][\"pks_g\"][1:])\n",
    "Predict_peaks = np.transpose(Predict_peaks)\n",
    "Predict_peak_points = Predict_peaks[:,0]\n",
    "\n",
    "Predict_data1 = np.concatenate((Predict_ppg_g, Predict_acc_X), axis=1)\n",
    "Predict_data2 = np.concatenate((Predict_data1, Predict_acc_Y), axis=1)\n",
    "Predict_data3 = np.concatenate((Predict_data2, Predict_acc_Z), axis=1)\n",
    "\n",
    "#print(np.shape(Predict_data3))\n",
    "#print(Predict_data3)\n",
    "\n",
    "Predict_data = Predict_data3[:,[0,1,2,4,6]]\n",
    "#print(np.shape(Predict_data))\n",
    "\n"
   ]
  },
  {
   "cell_type": "code",
   "execution_count": null,
   "metadata": {},
   "outputs": [],
   "source": [
    "## Transfer into binary Classification for Prediction\n",
    "\n",
    "Predict_output = []\n",
    "for value in Predict_t :\n",
    "        if value in Predict_peak_points:\n",
    "            Predict_output.append(1)\n",
    "        else:\n",
    "            Predict_output.append(0)\n",
    "\n",
    "Predict_output = np.asarray(Predict_output)\n",
    "\n",
    "#print(np.shape(output))\n",
    "Predict_output = Predict_output.reshape(Predict_output.shape[0],1)\n",
    "#print(np.shape(Predict_output))\n",
    "#print(output)"
   ]
  },
  {
   "cell_type": "code",
   "execution_count": null,
   "metadata": {},
   "outputs": [],
   "source": [
    "## Selecting some the datapoints to balance the classes\n",
    "\n",
    "Predict_new_all = np.concatenate((Predict_data, Predict_output), axis=1)\n",
    "#print(np.shape(Predict_new_all))\n",
    "#print(new_all)\n",
    "\n",
    "Predict_y = [Predict_new_all[Predict_new_all[:,5]==1] for k in np.unique(Predict_new_all[:,5])]\n",
    "Predict_x = [Predict_new_all[Predict_new_all[:,5]==0] for k in np.unique(Predict_new_all[:,5])]\n",
    "#print(np.shape(Predict_y))\n",
    "#print(np.shape(Predict_x))\n",
    "\n",
    "Predict_x = np.delete(Predict_x, slice(0, 91160), axis=1)\n",
    "#print(np.shape(Predict_x))\n",
    "Predict_new_all = np.concatenate((Predict_x, Predict_y), axis=1)\n",
    "#print(np.shape(Predict_new_all))\n",
    "#print(Predict_new_all)\n",
    "np.random.shuffle(Predict_new_all)\n",
    "\n",
    "Predict_new_all = Predict_new_all[0,:,:]\n",
    "\n",
    "Predict_data = Predict_new_all[:,[0,1,2,3,4]]\n",
    "Predict_output = Predict_new_all[:,[5]]\n",
    "#print(np.shape(Predict_data))\n",
    "#print(np.shape(Predict_output))\n",
    "\n",
    "#print(Predict_output)\n",
    "#print(Predict_data)\n"
   ]
  },
  {
   "cell_type": "code",
   "execution_count": null,
   "metadata": {},
   "outputs": [],
   "source": [
    "## Changing shape of input for prediction\n",
    "\n",
    "Predict_data = Predict_data.reshape(Predict_data.shape[0],Predict_data.shape[1],1)\n",
    "print(np.shape(Predict_data))"
   ]
  },
  {
   "cell_type": "code",
   "execution_count": null,
   "metadata": {},
   "outputs": [],
   "source": [
    "## Predict the new data using model\n",
    "\n",
    "Predicted_output = model.predict_classes(Predict_data)\n",
    "#print(Predicted_output)\n",
    "#print(np.shape(Predicted_output))\n"
   ]
  },
  {
   "cell_type": "code",
   "execution_count": null,
   "metadata": {},
   "outputs": [],
   "source": [
    "## Find the accuracy of Predicted data\n",
    "\n",
    "print(\"\\n Confusion_Matrix: \\n\")\n",
    "skplt.metrics.plot_confusion_matrix(Predict_output, Predicted_output, title=\"Confusion Matrix\",text_fontsize='large')\n",
    "plt.show()\n"
   ]
  },
  {
   "cell_type": "code",
   "execution_count": null,
   "metadata": {},
   "outputs": [],
   "source": []
  }
 ],
 "metadata": {
  "kernelspec": {
   "display_name": "Python 3",
   "language": "python",
   "name": "python3"
  },
  "language_info": {
   "codemirror_mode": {
    "name": "ipython",
    "version": 3
   },
   "file_extension": ".py",
   "mimetype": "text/x-python",
   "name": "python",
   "nbconvert_exporter": "python",
   "pygments_lexer": "ipython3",
   "version": "3.6.4"
  }
 },
 "nbformat": 4,
 "nbformat_minor": 2
}
